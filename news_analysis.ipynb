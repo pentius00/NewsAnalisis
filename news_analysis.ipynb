{
 "cells": [
  {
   "cell_type": "code",
   "execution_count": 14,
   "id": "b779f771-ff6b-4f43-9fbf-69a15a49b031",
   "metadata": {},
   "outputs": [
    {
     "ename": "ModuleNotFoundError",
     "evalue": "No module named 'ToneAnalyzerV3'",
     "output_type": "error",
     "traceback": [
      "\u001b[1;31m---------------------------------------------------------------------------\u001b[0m",
      "\u001b[1;31mModuleNotFoundError\u001b[0m                       Traceback (most recent call last)",
      "\u001b[1;32m~\\AppData\\Local\\Temp/ipykernel_12608/681218063.py\u001b[0m in \u001b[0;36m<module>\u001b[1;34m\u001b[0m\n\u001b[0;32m     10\u001b[0m \u001b[1;33m\u001b[0m\u001b[0m\n\u001b[0;32m     11\u001b[0m \u001b[1;32mimport\u001b[0m \u001b[0mibm_watson\u001b[0m\u001b[1;33m\u001b[0m\u001b[1;33m\u001b[0m\u001b[0m\n\u001b[1;32m---> 12\u001b[1;33m \u001b[1;32mimport\u001b[0m \u001b[0mToneAnalyzerV3\u001b[0m\u001b[1;33m\u001b[0m\u001b[1;33m\u001b[0m\u001b[0m\n\u001b[0m\u001b[0;32m     13\u001b[0m \u001b[1;32mfrom\u001b[0m \u001b[0mibm_cloud_sdk_core\u001b[0m\u001b[1;33m.\u001b[0m\u001b[0mauthenticators\u001b[0m \u001b[1;32mimport\u001b[0m \u001b[0mIAMAuthenticator\u001b[0m\u001b[1;33m\u001b[0m\u001b[1;33m\u001b[0m\u001b[0m\n\u001b[0;32m     14\u001b[0m \u001b[1;33m\u001b[0m\u001b[0m\n",
      "\u001b[1;31mModuleNotFoundError\u001b[0m: No module named 'ToneAnalyzerV3'"
     ]
    }
   ],
   "source": [
    "import os\n",
    "import pandas as pd\n",
    "from newsapi import NewsApiClient\n",
    "from dotenv import load_dotenv\n",
    "load_dotenv(\"key.env\")\n",
    "import json\n",
    "from pandas.io.json import json_normalize\n",
    "load_dotenv('secret.env')\n",
    "#!pip install -f --upgrade ibm-watson\n",
    "\n",
    "import ibm_watson \n",
    "import ToneAnalyzerV3\n",
    "from ibm_cloud_sdk_core.authenticators import IAMAuthenticator\n",
    "\n"
   ]
  },
  {
   "cell_type": "code",
   "execution_count": 2,
   "id": "8779ba57-c7ca-406a-84fa-eeeb7609767e",
   "metadata": {},
   "outputs": [],
   "source": [
    "### for fun printing caracter per caracter like a chat bot\n",
    "import time,os,sys\n",
    "\n",
    "def typingPrint(text):\n",
    "  for character in text:\n",
    "    sys.stdout.write(character)\n",
    "    sys.stdout.flush()\n",
    "    time.sleep(0.03)\n",
    "  \n",
    "def typingInput(text):\n",
    "  for character in text:\n",
    "    sys.stdout.write(character)\n",
    "    \n",
    "    sys.stdout.flush()\n",
    "    time.sleep(0.05)\n",
    "  value = input()  \n",
    "  return value  "
   ]
  },
  {
   "cell_type": "code",
   "execution_count": 3,
   "id": "3d3b7a8e-93c9-4e2d-9cf4-0d8e7f36942d",
   "metadata": {},
   "outputs": [],
   "source": [
    "# Reading the News API key enviroment variable\n",
    "api_key = os.getenv(\"NEWS_API_KEY\")"
   ]
  },
  {
   "cell_type": "code",
   "execution_count": 4,
   "id": "ceb8d37b-2b08-40b7-8d9c-6709402036be",
   "metadata": {},
   "outputs": [],
   "source": [
    "# Create a newsapi client\n",
    "newsapi = NewsApiClient(api_key=api_key)"
   ]
  },
  {
   "cell_type": "code",
   "execution_count": 5,
   "id": "74f1e87b-d2f7-4c9e-a4bc-4aae5931a6ee",
   "metadata": {},
   "outputs": [],
   "source": [
    "# Transform the response dictionary to a DataFrame\n",
    "\n",
    "headlines = newsapi.get_everything(q=\"TODAY\", language=\"en\", sort_by=\"relevancy\")\n",
    "text = pd.DataFrame.from_dict(headlines[\"articles\"])\n",
    "\n",
    "\n",
    "text = text.to_json(path_or_buf=None,\n",
    "                  orient=None, date_format=None,\n",
    "                  double_precision=10, force_ascii=True, date_unit='ms',\n",
    "                  default_handler=None, lines=False, compression='infer', index=True,\n",
    "                  indent=None, storage_options=None)"
   ]
  },
  {
   "cell_type": "code",
   "execution_count": 6,
   "id": "0e2bddcd-e03d-4fb3-a105-442ec5da9c99",
   "metadata": {},
   "outputs": [],
   "source": [
    "# Get the Tone Analyzer API Key and URL\n",
    "tone_api = os.getenv(\"tone_key\")\n",
    "tone_url = os.getenv(\"tone_url\")\n",
    "\n",
    "# Initialize Tone Analyser Client\n",
    "# Create authentication object\n",
    "authenticator = IAMAuthenticator(tone_api)"
   ]
  },
  {
   "cell_type": "code",
   "execution_count": 7,
   "id": "0a76f043-98b8-4da4-bfb5-ecc524249e88",
   "metadata": {},
   "outputs": [
    {
     "ename": "NameError",
     "evalue": "name 'ToneAnalyzerV3' is not defined",
     "output_type": "error",
     "traceback": [
      "\u001b[1;31m---------------------------------------------------------------------------\u001b[0m",
      "\u001b[1;31mNameError\u001b[0m                                 Traceback (most recent call last)",
      "\u001b[1;32m~\\AppData\\Local\\Temp/ipykernel_12608/1007843804.py\u001b[0m in \u001b[0;36m<module>\u001b[1;34m\u001b[0m\n\u001b[0;32m      3\u001b[0m \u001b[1;33m\u001b[0m\u001b[0m\n\u001b[0;32m      4\u001b[0m \u001b[1;33m\u001b[0m\u001b[0m\n\u001b[1;32m----> 5\u001b[1;33m tone_analyzer = ToneAnalyzerV3(\n\u001b[0m\u001b[0;32m      6\u001b[0m     \u001b[0mversion\u001b[0m\u001b[1;33m=\u001b[0m\u001b[1;34m\"2021-09-21\"\u001b[0m\u001b[1;33m,\u001b[0m\u001b[1;33m\u001b[0m\u001b[1;33m\u001b[0m\u001b[0m\n\u001b[0;32m      7\u001b[0m     \u001b[0mauthenticator\u001b[0m\u001b[1;33m=\u001b[0m\u001b[0mauthenticator\u001b[0m\u001b[1;33m\u001b[0m\u001b[1;33m\u001b[0m\u001b[0m\n",
      "\u001b[1;31mNameError\u001b[0m: name 'ToneAnalyzerV3' is not defined"
     ]
    }
   ],
   "source": [
    "# Create tone_analyzer instance\n",
    "\n",
    "\n",
    "\n",
    "tone_analyzer = ToneAnalyzerV3(\n",
    "    version=\"2021-09-21\",\n",
    "    authenticator=authenticator\n",
    ")\n",
    "\n",
    "# Set the service endpoint\n",
    "tone_analyzer.set_service_url(tone_url)"
   ]
  },
  {
   "cell_type": "code",
   "execution_count": 8,
   "id": "233454b5-b337-47ef-8363-73dd4bfa4570",
   "metadata": {},
   "outputs": [
    {
     "ename": "NameError",
     "evalue": "name 'tone_analyzer' is not defined",
     "output_type": "error",
     "traceback": [
      "\u001b[1;31m---------------------------------------------------------------------------\u001b[0m",
      "\u001b[1;31mNameError\u001b[0m                                 Traceback (most recent call last)",
      "\u001b[1;32m~\\AppData\\Local\\Temp/ipykernel_12608/2523606401.py\u001b[0m in \u001b[0;36m<module>\u001b[1;34m\u001b[0m\n\u001b[0;32m      1\u001b[0m \u001b[1;31m# Define text to analyze\u001b[0m\u001b[1;33m\u001b[0m\u001b[1;33m\u001b[0m\u001b[1;33m\u001b[0m\u001b[0m\n\u001b[0;32m      2\u001b[0m \u001b[1;31m# Analyze the text's tone with the 'tone()' method.\u001b[0m\u001b[1;33m\u001b[0m\u001b[1;33m\u001b[0m\u001b[1;33m\u001b[0m\u001b[0m\n\u001b[1;32m----> 3\u001b[1;33m tone_analysis = tone_analyzer.tone(\n\u001b[0m\u001b[0;32m      4\u001b[0m     \u001b[1;33m{\u001b[0m\u001b[1;34m\"text\"\u001b[0m\u001b[1;33m:\u001b[0m \u001b[0mtext\u001b[0m\u001b[1;33m}\u001b[0m\u001b[1;33m,\u001b[0m\u001b[1;33m\u001b[0m\u001b[1;33m\u001b[0m\u001b[0m\n\u001b[0;32m      5\u001b[0m     \u001b[0mcontent_type\u001b[0m\u001b[1;33m=\u001b[0m\u001b[1;34m\"application/json\"\u001b[0m\u001b[1;33m,\u001b[0m\u001b[1;33m\u001b[0m\u001b[1;33m\u001b[0m\u001b[0m\n",
      "\u001b[1;31mNameError\u001b[0m: name 'tone_analyzer' is not defined"
     ]
    }
   ],
   "source": [
    "# Define text to analyze\n",
    "# Analyze the text's tone with the 'tone()' method.\n",
    "tone_analysis = tone_analyzer.tone(\n",
    "    {\"text\": text},\n",
    "    content_type=\"application/json\",\n",
    "    content_language=\"en\",\n",
    "    accept_language=\"en\",\n",
    ").get_result()\n",
    "\n",
    "# Display tone analysis results\n",
    "#print(json.dumps(tone_analysis, indent=2))"
   ]
  },
  {
   "cell_type": "code",
   "execution_count": 9,
   "id": "86a1a67a-1866-4d49-9999-6966c10830d5",
   "metadata": {},
   "outputs": [
    {
     "ename": "NameError",
     "evalue": "name 'tone_analysis' is not defined",
     "output_type": "error",
     "traceback": [
      "\u001b[1;31m---------------------------------------------------------------------------\u001b[0m",
      "\u001b[1;31mNameError\u001b[0m                                 Traceback (most recent call last)",
      "\u001b[1;32m~\\AppData\\Local\\Temp/ipykernel_12608/2147746588.py\u001b[0m in \u001b[0;36m<module>\u001b[1;34m\u001b[0m\n\u001b[0;32m      1\u001b[0m \u001b[1;31m# Document Tones\u001b[0m\u001b[1;33m\u001b[0m\u001b[1;33m\u001b[0m\u001b[1;33m\u001b[0m\u001b[0m\n\u001b[1;32m----> 2\u001b[1;33m \u001b[0mdoc_tone_df\u001b[0m \u001b[1;33m=\u001b[0m \u001b[0mjson_normalize\u001b[0m\u001b[1;33m(\u001b[0m\u001b[0mdata\u001b[0m\u001b[1;33m=\u001b[0m\u001b[0mtone_analysis\u001b[0m\u001b[1;33m[\u001b[0m\u001b[1;34m\"document_tone\"\u001b[0m\u001b[1;33m]\u001b[0m\u001b[1;33m,\u001b[0m \u001b[0mrecord_path\u001b[0m\u001b[1;33m=\u001b[0m\u001b[1;33m[\u001b[0m\u001b[1;34m\"tones\"\u001b[0m\u001b[1;33m]\u001b[0m\u001b[1;33m)\u001b[0m\u001b[1;33m\u001b[0m\u001b[1;33m\u001b[0m\u001b[0m\n\u001b[0m\u001b[0;32m      3\u001b[0m \u001b[0mdoc_tone_df\u001b[0m\u001b[1;33m\u001b[0m\u001b[1;33m\u001b[0m\u001b[0m\n",
      "\u001b[1;31mNameError\u001b[0m: name 'tone_analysis' is not defined"
     ]
    }
   ],
   "source": [
    "# Document Tones\n",
    "doc_tone_df = json_normalize(data=tone_analysis[\"document_tone\"], record_path=[\"tones\"])\n",
    "doc_tone_df"
   ]
  },
  {
   "cell_type": "code",
   "execution_count": 10,
   "id": "c448012b-5d06-46e4-ad76-f26d9d6dbf9b",
   "metadata": {},
   "outputs": [],
   "source": [
    "# Sentences Tones\n",
    "def SetencesTones():\n",
    "    sentences_tone_df = json_normalize(\n",
    "    data=tone_analysis[\"sentences_tone\"],\n",
    "    record_path=[\"tones\"],\n",
    "    meta=[\"sentence_id\", \"text\"])\n",
    "    return sentences_tone_df\n"
   ]
  },
  {
   "cell_type": "code",
   "execution_count": 11,
   "id": "60dc6089-a3c3-4fcb-a408-9f99bb16e3e1",
   "metadata": {},
   "outputs": [
    {
     "ename": "NameError",
     "evalue": "name 'tone_analyzer' is not defined",
     "output_type": "error",
     "traceback": [
      "\u001b[1;31m---------------------------------------------------------------------------\u001b[0m",
      "\u001b[1;31mNameError\u001b[0m                                 Traceback (most recent call last)",
      "\u001b[1;32m~\\AppData\\Local\\Temp/ipykernel_12608/2131324030.py\u001b[0m in \u001b[0;36m<module>\u001b[1;34m\u001b[0m\n\u001b[0;32m      8\u001b[0m \u001b[1;33m\u001b[0m\u001b[0m\n\u001b[0;32m      9\u001b[0m \u001b[1;31m# Analyze utterances using the 'tone_chat()' method\u001b[0m\u001b[1;33m\u001b[0m\u001b[1;33m\u001b[0m\u001b[1;33m\u001b[0m\u001b[0m\n\u001b[1;32m---> 10\u001b[1;33m utterance_analysis = tone_analyzer.tone_chat(\n\u001b[0m\u001b[0;32m     11\u001b[0m     \u001b[0mutterances\u001b[0m\u001b[1;33m=\u001b[0m\u001b[0mutterances\u001b[0m\u001b[1;33m,\u001b[0m \u001b[0mcontent_language\u001b[0m\u001b[1;33m=\u001b[0m\u001b[1;34m\"en\"\u001b[0m\u001b[1;33m,\u001b[0m \u001b[0maccept_language\u001b[0m\u001b[1;33m=\u001b[0m\u001b[1;34m\"en\"\u001b[0m\u001b[1;33m\u001b[0m\u001b[1;33m\u001b[0m\u001b[0m\n\u001b[0;32m     12\u001b[0m ).get_result()\n",
      "\u001b[1;31mNameError\u001b[0m: name 'tone_analyzer' is not defined"
     ]
    }
   ],
   "source": [
    "# Define conversational utterances\n",
    "utterances = [\n",
    "    {\"text\": \"Hello, I'm having a problem with your product.\", \"user\": \"customer\"},\n",
    "    {\"text\": \"OK, let me know what's going on, please.\", \"user\": \"agent\"},\n",
    "    {\"text\": \"Well, nothing is working :(\", \"user\": \"customer\"},\n",
    "    {\"text\": \"Sorry to hear that.\", \"user\": \"agent\"},\n",
    "]\n",
    "\n",
    "# Analyze utterances using the 'tone_chat()' method\n",
    "utterance_analysis = tone_analyzer.tone_chat(\n",
    "    utterances=utterances, content_language=\"en\", accept_language=\"en\"\n",
    ").get_result()\n",
    "#print(json.dumps(utterance_analysis, indent=2))\n",
    "\n",
    "chat_tone_df = json_normalize(\n",
    "    data=utterance_analysis[\"utterances_tone\"],\n",
    "    record_path=[\"tones\"],\n",
    "    meta=[\"utterance_id\", \"utterance_text\"],\n",
    ")\n",
    "chat_tone_df"
   ]
  },
  {
   "cell_type": "code",
   "execution_count": null,
   "id": "138626a2-0bcc-4f70-8167-59a89ecc86ba",
   "metadata": {},
   "outputs": [],
   "source": []
  },
  {
   "cell_type": "code",
   "execution_count": null,
   "id": "70d9eebc-0280-4456-ac8e-fa2378978af4",
   "metadata": {},
   "outputs": [],
   "source": []
  },
  {
   "cell_type": "code",
   "execution_count": 12,
   "id": "8084e234-6eaf-4b0e-bafc-c650e26a3ab6",
   "metadata": {},
   "outputs": [
    {
     "ename": "NameError",
     "evalue": "name 'ToneAnalyzerV3' is not defined",
     "output_type": "error",
     "traceback": [
      "\u001b[1;31m---------------------------------------------------------------------------\u001b[0m",
      "\u001b[1;31mNameError\u001b[0m                                 Traceback (most recent call last)",
      "\u001b[1;32m~\\AppData\\Local\\Temp/ipykernel_12608/2121423450.py\u001b[0m in \u001b[0;36m<module>\u001b[1;34m\u001b[0m\n\u001b[0;32m     49\u001b[0m \u001b[1;33m\u001b[0m\u001b[0m\n\u001b[0;32m     50\u001b[0m     \u001b[1;31m#return tone_analysis\u001b[0m\u001b[1;33m\u001b[0m\u001b[1;33m\u001b[0m\u001b[1;33m\u001b[0m\u001b[0m\n\u001b[1;32m---> 51\u001b[1;33m \u001b[0mfinal_df\u001b[0m\u001b[1;33m=\u001b[0m \u001b[0mnews_analysis\u001b[0m\u001b[1;33m(\u001b[0m\u001b[0mdf\u001b[0m\u001b[1;33m)\u001b[0m\u001b[1;33m\u001b[0m\u001b[1;33m\u001b[0m\u001b[0m\n\u001b[0m\u001b[0;32m     52\u001b[0m \u001b[1;33m\u001b[0m\u001b[0m\n\u001b[0;32m     53\u001b[0m \u001b[1;33m\u001b[0m\u001b[0m\n",
      "\u001b[1;32m~\\AppData\\Local\\Temp/ipykernel_12608/2121423450.py\u001b[0m in \u001b[0;36mnews_analysis\u001b[1;34m(df)\u001b[0m\n\u001b[0;32m     31\u001b[0m                   \u001b[0mdefault_handler\u001b[0m\u001b[1;33m=\u001b[0m\u001b[1;32mNone\u001b[0m\u001b[1;33m,\u001b[0m \u001b[0mlines\u001b[0m\u001b[1;33m=\u001b[0m\u001b[1;32mFalse\u001b[0m\u001b[1;33m,\u001b[0m \u001b[0mcompression\u001b[0m\u001b[1;33m=\u001b[0m\u001b[1;34m'infer'\u001b[0m\u001b[1;33m,\u001b[0m \u001b[0mindex\u001b[0m\u001b[1;33m=\u001b[0m\u001b[1;32mTrue\u001b[0m\u001b[1;33m,\u001b[0m\u001b[1;33m\u001b[0m\u001b[1;33m\u001b[0m\u001b[0m\n\u001b[0;32m     32\u001b[0m                   indent=None, storage_options=None)\n\u001b[1;32m---> 33\u001b[1;33m     \u001b[0mtone_analyzer\u001b[0m \u001b[1;33m=\u001b[0m \u001b[0mToneAnalyzerV3\u001b[0m\u001b[1;33m(\u001b[0m\u001b[0mversion\u001b[0m\u001b[1;33m=\u001b[0m\u001b[1;34m\"2021-09-21\"\u001b[0m\u001b[1;33m,\u001b[0m\u001b[0mauthenticator\u001b[0m\u001b[1;33m=\u001b[0m\u001b[0mauthenticator\u001b[0m\u001b[1;33m)\u001b[0m\u001b[1;33m\u001b[0m\u001b[1;33m\u001b[0m\u001b[0m\n\u001b[0m\u001b[0;32m     34\u001b[0m     \u001b[0mtone_analyzer\u001b[0m\u001b[1;33m.\u001b[0m\u001b[0mset_service_url\u001b[0m\u001b[1;33m(\u001b[0m\u001b[0mtone_url\u001b[0m\u001b[1;33m)\u001b[0m\u001b[1;33m\u001b[0m\u001b[1;33m\u001b[0m\u001b[0m\n\u001b[0;32m     35\u001b[0m     tone_analysis = tone_analyzer.tone(\n",
      "\u001b[1;31mNameError\u001b[0m: name 'ToneAnalyzerV3' is not defined"
     ]
    }
   ],
   "source": [
    "### created a function for the obtention of news\n",
    "def get_news(topic,):\n",
    "    load_dotenv(\"key.env\")\n",
    "    api_key = os.getenv(\"NEWS_API_KEY\")\n",
    "    newsapi = NewsApiClient(api_key=api_key)\n",
    "    headlines = newsapi.get_everything(q='topic', language=\"en\", sort_by=\"relevancy\")\n",
    "    news_df = pd.DataFrame.from_dict(headlines[\"articles\"])\n",
    "    news_df = news_df.drop(['source', 'url', 'urlToImage'], axis=1)\n",
    "    text = news_df.description\n",
    "    text = text.to_json(path_or_buf=None,\n",
    "                  orient=None, date_format=None,\n",
    "                  double_precision=10, force_ascii=True, date_unit='ms',\n",
    "                  default_handler=None, lines=False, compression='infer', index=True,\n",
    "                  indent=None, storage_options=None)\n",
    "    \n",
    "   \n",
    "    return news_df\n",
    "  \n",
    "df = get_news(\"today\")\n",
    "df\n",
    "\n",
    "\n",
    "def news_analysis(df):\n",
    "    tone_api = os.getenv(\"tone_key\")\n",
    "    tone_url = os.getenv(\"tone_url\")\n",
    "    authenticator = IAMAuthenticator(tone_api)\n",
    "    text = df.description\n",
    "    text = text.to_json(path_or_buf=None,\n",
    "                  orient=None, date_format=None,\n",
    "                  double_precision=10, force_ascii=True, date_unit='ms',\n",
    "                  default_handler=None, lines=False, compression='infer', index=True,\n",
    "                  indent=None, storage_options=None)\n",
    "    tone_analyzer = ToneAnalyzerV3(version=\"2021-09-21\",authenticator=authenticator)\n",
    "    tone_analyzer.set_service_url(tone_url)\n",
    "    tone_analysis = tone_analyzer.tone(\n",
    "    {\"text\": text},\n",
    "    content_type=\"application/json\",\n",
    "    content_language=\"en\",\n",
    "    accept_language=\"en\",).get_result()\n",
    "    sentences_tone_df = json_normalize(\n",
    "    data=tone_analysis[\"sentences_tone\"],\n",
    "    record_path=[\"tones\"],\n",
    "    meta=[\"sentence_id\", \"text\"])\n",
    "    sentences_tone_df['title'] = df['title']\n",
    "    sentences_tone_df['content'] = df['content']\n",
    "    return sentences_tone_df\n",
    "    \n",
    "    \n",
    "  \n",
    "    #return tone_analysis\n",
    "final_df= news_analysis(df)\n",
    "\n",
    "\n"
   ]
  },
  {
   "cell_type": "code",
   "execution_count": 13,
   "id": "4e1cb611-f530-4c84-b44c-98caa3bba528",
   "metadata": {},
   "outputs": [
    {
     "ename": "NameError",
     "evalue": "name 'final_df' is not defined",
     "output_type": "error",
     "traceback": [
      "\u001b[1;31m---------------------------------------------------------------------------\u001b[0m",
      "\u001b[1;31mNameError\u001b[0m                                 Traceback (most recent call last)",
      "\u001b[1;32m~\\AppData\\Local\\Temp/ipykernel_12608/4180303868.py\u001b[0m in \u001b[0;36m<module>\u001b[1;34m\u001b[0m\n\u001b[1;32m----> 1\u001b[1;33m \u001b[0mfinal_df\u001b[0m\u001b[1;33m\u001b[0m\u001b[1;33m\u001b[0m\u001b[0m\n\u001b[0m",
      "\u001b[1;31mNameError\u001b[0m: name 'final_df' is not defined"
     ]
    }
   ],
   "source": [
    "final_df\n"
   ]
  },
  {
   "cell_type": "code",
   "execution_count": null,
   "id": "0808ff17-e9f1-4290-9c22-feaae42d9116",
   "metadata": {},
   "outputs": [],
   "source": []
  },
  {
   "cell_type": "code",
   "execution_count": null,
   "id": "a6c8a3ba-2d89-4b60-afd7-0a4d53b49a29",
   "metadata": {},
   "outputs": [],
   "source": []
  },
  {
   "cell_type": "code",
   "execution_count": null,
   "id": "852ca1bc-f9e5-4760-a617-963e103d8202",
   "metadata": {},
   "outputs": [],
   "source": [
    "\n"
   ]
  },
  {
   "cell_type": "code",
   "execution_count": null,
   "id": "c412bbd5-d93b-4070-8f0d-a84eb6682f45",
   "metadata": {},
   "outputs": [],
   "source": []
  },
  {
   "cell_type": "code",
   "execution_count": null,
   "id": "5c74ac32-572b-4b0e-9ed1-bc424cb5fb16",
   "metadata": {},
   "outputs": [],
   "source": []
  },
  {
   "cell_type": "code",
   "execution_count": null,
   "id": "d4c6e54b-dee3-48fd-9b04-6d8c460d0922",
   "metadata": {},
   "outputs": [],
   "source": []
  }
 ],
 "metadata": {
  "kernelspec": {
   "display_name": "Python 3 (ipykernel)",
   "language": "python",
   "name": "python3"
  },
  "language_info": {
   "codemirror_mode": {
    "name": "ipython",
    "version": 3
   },
   "file_extension": ".py",
   "mimetype": "text/x-python",
   "name": "python",
   "nbconvert_exporter": "python",
   "pygments_lexer": "ipython3",
   "version": "3.7.11"
  }
 },
 "nbformat": 4,
 "nbformat_minor": 5
}
